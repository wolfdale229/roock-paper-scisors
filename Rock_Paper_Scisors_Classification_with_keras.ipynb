{
  "nbformat": 4,
  "nbformat_minor": 0,
  "metadata": {
    "accelerator": "GPU",
    "colab": {
      "name": "Rock_Paper_Scisors Classification with keras.ipynb",
      "provenance": [],
      "collapsed_sections": [
        "VWSua95_Kha1"
      ],
      "mount_file_id": "1Yb_5h1ppopLjXBz7o_FD8jr7TPtclNiu",
      "authorship_tag": "ABX9TyOxRyB/SKhGWtliRPztv9l+",
      "include_colab_link": true
    },
    "kernelspec": {
      "display_name": "Python 3",
      "name": "python3"
    }
  },
  "cells": [
    {
      "cell_type": "markdown",
      "metadata": {
        "id": "view-in-github",
        "colab_type": "text"
      },
      "source": [
        "<a href=\"https://colab.research.google.com/github/wolfdale229/roock-paper-scisors/blob/main/Rock_Paper_Scisors_Classification_with_keras.ipynb\" target=\"_parent\"><img src=\"https://colab.research.google.com/assets/colab-badge.svg\" alt=\"Open In Colab\"/></a>"
      ]
    },
    {
      "cell_type": "markdown",
      "metadata": {
        "id": "diQ10u2K10xw"
      },
      "source": [
        "# Image Classification Using Keras"
      ]
    },
    {
      "cell_type": "code",
      "metadata": {
        "id": "ypXgudK5ZbzS"
      },
      "source": [
        "import os, shutil\n",
        "from tensorflow.keras import layers, models\n",
        "from tensorflow.keras.models import Sequential\n",
        "from tensorflow.keras.layers import BatchNormalization, Conv2D, MaxPooling2D, Dropout, Dense, Flatten\n",
        "from tensorflow.keras.preprocessing.image import ImageDataGenerator\n",
        "\n",
        "import matplotlib.pyplot as plt\n",
        "plt.style.use('seaborn-darkgrid')\n",
        "\n",
        "base_path = os.path.abspath('/content/drive/MyDrive/Colab Notebooks/rockpaperscissors')\n",
        "train_dir = '/content/drive/MyDrive/Colab Notebooks/rockpaperscissors/train_set'\n",
        "test_dir = '/content/drive/MyDrive/Colab Notebooks/rockpaperscissors/test_set'\n",
        "validation_dir = '/content/drive/MyDrive/Colab Notebooks/rockpaperscissors/validation_set'"
      ],
      "execution_count": null,
      "outputs": []
    },
    {
      "cell_type": "code",
      "metadata": {
        "colab": {
          "base_uri": "https://localhost:8080/"
        },
        "id": "DQWBKVyncHmN",
        "outputId": "df6646de-039e-4dfc-b431-027f145b4aec"
      },
      "source": [
        "from google.colab import  drive\n",
        "drive.mount('/content/drive/', force_remount=True)"
      ],
      "execution_count": null,
      "outputs": [
        {
          "output_type": "stream",
          "text": [
            "Mounted at /content/drive/\n"
          ],
          "name": "stdout"
        }
      ]
    },
    {
      "cell_type": "markdown",
      "metadata": {
        "id": "VWSua95_Kha1"
      },
      "source": [
        "# Getting the Data"
      ]
    },
    {
      "cell_type": "code",
      "metadata": {
        "id": "aW8BZZqkfMSy"
      },
      "source": [
        "# !kaggle datasets download -d drgfreeman/rockpaperscissors\n",
        "# !mv rockpaperscissors.zip '/content/drive/MyDrive/Colab Notebooks/rockpaperscissors'\n",
        "# os.chdir('/content/drive/MyDrive/Colab Notebooks')\n",
        "\n",
        "# subfolders in the training set for the three classes\n",
        "# file_names = ['train_rock', 'train_paper', 'train_scissors']\n",
        "# \n",
        "# for filename in file_names:\n",
        "  # os.mkdir(base_path+'/train_set/'+filename)\n",
        "\n",
        "# subfolders in the test set for the three classes\n",
        "# file_names = ['test_rock', 'test_paper', 'test_scissors']\n",
        "\n",
        "# for filename in file_names:\n",
        "#   os.mkdir(base_path+'/test_set/'+filename)\n",
        "\n",
        "# # subfolders in the validation set for the three classes\n",
        "# file_names = ['validation_rock', 'validation_paper', 'validation_scissors']\n",
        "\n",
        "# for filename in file_names:\n",
        "#   os.mkdir(base_path+'/validation_set/'+filename)"
      ],
      "execution_count": null,
      "outputs": []
    },
    {
      "cell_type": "code",
      "metadata": {
        "id": "-8_GUlwQgznZ"
      },
      "source": [
        "# # # splitting the paper image\n",
        "# fnames = [images for images in os.listdir('/content/drive/MyDrive/Colab Notebooks/paper')[:400]]\n",
        "# for fname in fnames:\n",
        "#   src = os.path.join('/content/drive/MyDrive/Colab Notebooks/paper', fname)\n",
        "#   dst = os.path.join('/content/drive/MyDrive/Colab Notebooks/rockpaperscissors/train_set/train_paper', fname)\n",
        "#   shutil.copy(src, dst)\n",
        "\n",
        "# fnames = [images for images in os.listdir('/content/drive/MyDrive/Colab Notebooks/paper')[400:556]]\n",
        "# for fname in fnames:\n",
        "#   src = os.path.join('/content/drive/MyDrive/Colab Notebooks/paper', fname)\n",
        "#   dst = os.path.join('/content/drive/MyDrive/Colab Notebooks/rockpaperscissors/test_set/test_paper', fname)\n",
        "#   shutil.copy(src, dst)\n",
        "\n",
        "\n",
        "# fnames = [images for images in os.listdir('/content/drive/MyDrive/Colab Notebooks/paper')[556:712]]\n",
        "# for fname in fnames:\n",
        "#   src = os.path.join('/content/drive/MyDrive/Colab Notebooks/paper', fname)\n",
        "#   dst = os.path.join('/content/drive/MyDrive/Colab Notebooks/rockpaperscissors/validation_set/validation_paper', fname)\n",
        "#   shutil.copy(src, dst)\n",
        "\n",
        "# # splitting the rock image\n",
        "# fnames = [images for images in os.listdir('/content/drive/MyDrive/Colab Notebooks/rock')[:400]]\n",
        "# for fname in fnames:\n",
        "#   src = os.path.join('/content/drive/MyDrive/Colab Notebooks/rock', fname)\n",
        "#   dst = os.path.join('/content/drive/MyDrive/Colab Notebooks/rockpaperscissors/train_set/train_rock', fname)\n",
        "#   shutil.copy(src, dst)\n",
        "\n",
        "# fnames = [images for images in os.listdir('/content/drive/MyDrive/Colab Notebooks/rock')[400:556]]\n",
        "# for fname in fnames:\n",
        "#   src = os.path.join('/content/drive/MyDrive/Colab Notebooks/rock', fname)\n",
        "#   dst = os.path.join('/content/drive/MyDrive/Colab Notebooks/rockpaperscissors/test_set/test_rock', fname)\n",
        "#   shutil.copy(src, dst)\n",
        "\n",
        "\n",
        "# fnames = [images for images in os.listdir('/content/drive/MyDrive/Colab Notebooks/rock')[556:712]]\n",
        "# for fname in fnames:\n",
        "#   src = os.path.join('/content/drive/MyDrive/Colab Notebooks/rock', fname)\n",
        "#   dst = os.path.join('/content/drive/MyDrive/Colab Notebooks/rockpaperscissors/validation_set/validation_rock', fname)\n",
        "#   shutil.copy(src, dst)\n",
        "\n",
        "# # split scissors image\n",
        "# fnames = [images for images in os.listdir('/content/drive/MyDrive/Colab Notebooks/scissors')[:400]]\n",
        "# for fname in fnames:\n",
        "#   src = os.path.join('/content/drive/MyDrive/Colab Notebooks/scissors', fname)\n",
        "#   dst = os.path.join('/content/drive/MyDrive/Colab Notebooks/rockpaperscissors/train_set/train_scissors', fname)\n",
        "#   shutil.copy(src, dst)\n",
        "\n",
        "# fnames = [images for images in os.listdir('/content/drive/MyDrive/Colab Notebooks/scissors')[400:556]]\n",
        "# for fname in fnames:\n",
        "#   src = os.path.join('/content/drive/MyDrive/Colab Notebooks/scissors', fname)\n",
        "#   dst = os.path.join('/content/drive/MyDrive/Colab Notebooks/rockpaperscissors/test_set/test_scissors', fname)\n",
        "#   shutil.copy(src, dst)\n",
        "\n",
        "\n",
        "# fnames = [images for images in os.listdir('/content/drive/MyDrive/Colab Notebooks/scissors')[556:712]]\n",
        "# for fname in fnames:\n",
        "#   src = os.path.join('/content/drive/MyDrive/Colab Notebooks/scissors', fname)\n",
        "#   dst = os.path.join('/content/drive/MyDrive/Colab Notebooks/rockpaperscissors/validation_set/validation_scissors', fname)\n",
        "#   shutil.copy(src, dst)\n"
      ],
      "execution_count": null,
      "outputs": []
    },
    {
      "cell_type": "code",
      "metadata": {
        "colab": {
          "base_uri": "https://localhost:8080/"
        },
        "id": "vrq4hhzkhdqH",
        "outputId": "eb1450fc-9583-4d87-e294-76dc473a0452"
      },
      "source": [
        "# confirming the size of the data\n",
        "len(os.listdir('/content/drive/MyDrive/Colab Notebooks/rockpaperscissors/validation_set/validation_paper'))"
      ],
      "execution_count": null,
      "outputs": [
        {
          "output_type": "execute_result",
          "data": {
            "text/plain": [
              "156"
            ]
          },
          "metadata": {
            "tags": []
          },
          "execution_count": 10
        }
      ]
    },
    {
      "cell_type": "markdown",
      "metadata": {
        "id": "TPvvJTIuodDW"
      },
      "source": [
        "#Image preprocessing\n",
        "This process ensures that the image is transformed from it's pictural format into tensors, which is the correct format for deep learning "
      ]
    },
    {
      "cell_type": "code",
      "metadata": {
        "colab": {
          "base_uri": "https://localhost:8080/"
        },
        "id": "nHhhbqYRolFY",
        "outputId": "5fc4ce59-aa2a-4199-a37d-ef22745720cb"
      },
      "source": [
        "train_image_scaled = ImageDataGenerator(rescale=1./255, horizontal_flip=True, vertical_flip=True, \n",
        "                                        width_shift_range=0.1, height_shift_range=0.1)\n",
        "valiationimage_scaled = ImageDataGenerator(rescale=1./255, horizontal_flip=True, vertical_flip=True,\n",
        "                                           width_shift_range=0.1, height_shift_range=0.1)\n",
        "test_image_scaled = ImageDataGenerator(rescale=1/.225, horizontal_flip=True, vertical_flip=True,\n",
        "                                       width_shift_range=0.1, height_shift_range=0.1)\n",
        "\n",
        "train_image_generator = train_image_scaled.flow_from_directory(\n",
        "    train_dir,\n",
        "    batch_size=32,\n",
        "    target_size=(150, 150),\n",
        "    class_mode='categorical'\n",
        ")\n",
        "\n",
        "validation_image_generator = valiationimage_scaled.flow_from_directory(\n",
        "    validation_dir,\n",
        "    target_size=(150, 150),\n",
        "    class_mode='categorical',\n",
        "    batch_size=32,\n",
        ")\n",
        "\n",
        "test_image_generator = test_image_scaled.flow_from_directory(\n",
        "    test_dir,\n",
        "    target_size=(150, 150),\n",
        "    batch_size=32\n",
        ")"
      ],
      "execution_count": null,
      "outputs": [
        {
          "output_type": "stream",
          "text": [
            "Found 1200 images belonging to 3 classes.\n",
            "Found 468 images belonging to 3 classes.\n",
            "Found 468 images belonging to 3 classes.\n"
          ],
          "name": "stdout"
        }
      ]
    },
    {
      "cell_type": "code",
      "metadata": {
        "colab": {
          "base_uri": "https://localhost:8080/"
        },
        "id": "ImMZs_EnJknJ",
        "outputId": "1beb182f-870d-4161-edf3-fe7da6dd7edd"
      },
      "source": [
        "train_image_generator.classes"
      ],
      "execution_count": null,
      "outputs": [
        {
          "output_type": "execute_result",
          "data": {
            "text/plain": [
              "array([0, 0, 0, ..., 2, 2, 2], dtype=int32)"
            ]
          },
          "metadata": {
            "tags": []
          },
          "execution_count": 34
        }
      ]
    },
    {
      "cell_type": "code",
      "metadata": {
        "colab": {
          "base_uri": "https://localhost:8080/"
        },
        "id": "qXytQSwxJmuB",
        "outputId": "7f82a225-a308-421f-94fd-61c84da3d49a"
      },
      "source": [
        "validation_image_generator.labels"
      ],
      "execution_count": null,
      "outputs": [
        {
          "output_type": "execute_result",
          "data": {
            "text/plain": [
              "array([0, 0, 0, 0, 0, 0, 0, 0, 0, 0, 0, 0, 0, 0, 0, 0, 0, 0, 0, 0, 0, 0,\n",
              "       0, 0, 0, 0, 0, 0, 0, 0, 0, 0, 0, 0, 0, 0, 0, 0, 0, 0, 0, 0, 0, 0,\n",
              "       0, 0, 0, 0, 0, 0, 0, 0, 0, 0, 0, 0, 0, 0, 0, 0, 0, 0, 0, 0, 0, 0,\n",
              "       0, 0, 0, 0, 0, 0, 0, 0, 0, 0, 0, 0, 0, 0, 0, 0, 0, 0, 0, 0, 0, 0,\n",
              "       0, 0, 0, 0, 0, 0, 0, 0, 0, 0, 0, 0, 0, 0, 0, 0, 0, 0, 0, 0, 0, 0,\n",
              "       0, 0, 0, 0, 0, 0, 0, 0, 0, 0, 0, 0, 0, 0, 0, 0, 0, 0, 0, 0, 0, 0,\n",
              "       0, 0, 0, 0, 0, 0, 0, 0, 0, 0, 0, 0, 0, 0, 0, 0, 0, 0, 0, 0, 0, 0,\n",
              "       0, 0, 1, 1, 1, 1, 1, 1, 1, 1, 1, 1, 1, 1, 1, 1, 1, 1, 1, 1, 1, 1,\n",
              "       1, 1, 1, 1, 1, 1, 1, 1, 1, 1, 1, 1, 1, 1, 1, 1, 1, 1, 1, 1, 1, 1,\n",
              "       1, 1, 1, 1, 1, 1, 1, 1, 1, 1, 1, 1, 1, 1, 1, 1, 1, 1, 1, 1, 1, 1,\n",
              "       1, 1, 1, 1, 1, 1, 1, 1, 1, 1, 1, 1, 1, 1, 1, 1, 1, 1, 1, 1, 1, 1,\n",
              "       1, 1, 1, 1, 1, 1, 1, 1, 1, 1, 1, 1, 1, 1, 1, 1, 1, 1, 1, 1, 1, 1,\n",
              "       1, 1, 1, 1, 1, 1, 1, 1, 1, 1, 1, 1, 1, 1, 1, 1, 1, 1, 1, 1, 1, 1,\n",
              "       1, 1, 1, 1, 1, 1, 1, 1, 1, 1, 1, 1, 1, 1, 1, 1, 1, 1, 1, 1, 1, 1,\n",
              "       1, 1, 1, 1, 2, 2, 2, 2, 2, 2, 2, 2, 2, 2, 2, 2, 2, 2, 2, 2, 2, 2,\n",
              "       2, 2, 2, 2, 2, 2, 2, 2, 2, 2, 2, 2, 2, 2, 2, 2, 2, 2, 2, 2, 2, 2,\n",
              "       2, 2, 2, 2, 2, 2, 2, 2, 2, 2, 2, 2, 2, 2, 2, 2, 2, 2, 2, 2, 2, 2,\n",
              "       2, 2, 2, 2, 2, 2, 2, 2, 2, 2, 2, 2, 2, 2, 2, 2, 2, 2, 2, 2, 2, 2,\n",
              "       2, 2, 2, 2, 2, 2, 2, 2, 2, 2, 2, 2, 2, 2, 2, 2, 2, 2, 2, 2, 2, 2,\n",
              "       2, 2, 2, 2, 2, 2, 2, 2, 2, 2, 2, 2, 2, 2, 2, 2, 2, 2, 2, 2, 2, 2,\n",
              "       2, 2, 2, 2, 2, 2, 2, 2, 2, 2, 2, 2, 2, 2, 2, 2, 2, 2, 2, 2, 2, 2,\n",
              "       2, 2, 2, 2, 2, 2], dtype=int32)"
            ]
          },
          "metadata": {
            "tags": []
          },
          "execution_count": 35
        }
      ]
    },
    {
      "cell_type": "markdown",
      "metadata": {
        "id": "KeI2SwQIKWDi"
      },
      "source": [
        "# Building a Base Network"
      ]
    },
    {
      "cell_type": "code",
      "metadata": {
        "colab": {
          "base_uri": "https://localhost:8080/"
        },
        "id": "_2oWsoq2JplO",
        "outputId": "59e32aee-f4d1-44fb-bd5c-8aa2606c3156"
      },
      "source": [
        "# model 1\n",
        "\n",
        "model = models.Sequential([\n",
        "                      \n",
        "    layers.Conv2D(4, activation='relu', input_shape=(150, 150, 3), padding='same', kernel_size=2),\n",
        "                      \n",
        "    layers.Conv2D(8, kernel_size=3, activation='relu', padding='same'),\n",
        "    layers.MaxPooling2D((2, 2)),\n",
        "    layers.BatchNormalization(),\n",
        "    layers.Dropout(0.3),\n",
        "\n",
        "    layers.Conv2D(16, kernel_size=5, activation='relu', padding='same'),\n",
        "    layers.MaxPooling2D((2, 2)),\n",
        "    layers.BatchNormalization(),\n",
        "    layers.Dropout(0.5),\n",
        "\n",
        "    layers.Conv2D(32, kernel_size=5, activation='relu', padding='same'),\n",
        "    layers.MaxPooling2D((2, 2)),\n",
        "    layers.BatchNormalization(),\n",
        "    layers.Dropout(rate=0.5),\n",
        "    \n",
        "    layers.Flatten(),\n",
        "    layers.BatchNormalization(),\n",
        "    layers.Dropout(0.5),\n",
        "\n",
        "    layers.Dense(512, activation='relu'),\n",
        "\n",
        "    layers.Dense(3, activation='softmax')\n",
        "\n",
        "    \n",
        "])\n",
        "model.summary()"
      ],
      "execution_count": null,
      "outputs": [
        {
          "output_type": "stream",
          "text": [
            "Model: \"sequential_27\"\n",
            "_________________________________________________________________\n",
            "Layer (type)                 Output Shape              Param #   \n",
            "=================================================================\n",
            "conv2d_129 (Conv2D)          (None, 150, 150, 4)       52        \n",
            "_________________________________________________________________\n",
            "conv2d_130 (Conv2D)          (None, 150, 150, 8)       296       \n",
            "_________________________________________________________________\n",
            "max_pooling2d_75 (MaxPooling (None, 75, 75, 8)         0         \n",
            "_________________________________________________________________\n",
            "batch_normalization_89 (Batc (None, 75, 75, 8)         32        \n",
            "_________________________________________________________________\n",
            "dropout_84 (Dropout)         (None, 75, 75, 8)         0         \n",
            "_________________________________________________________________\n",
            "conv2d_131 (Conv2D)          (None, 75, 75, 16)        3216      \n",
            "_________________________________________________________________\n",
            "max_pooling2d_76 (MaxPooling (None, 37, 37, 16)        0         \n",
            "_________________________________________________________________\n",
            "batch_normalization_90 (Batc (None, 37, 37, 16)        64        \n",
            "_________________________________________________________________\n",
            "dropout_85 (Dropout)         (None, 37, 37, 16)        0         \n",
            "_________________________________________________________________\n",
            "conv2d_132 (Conv2D)          (None, 37, 37, 32)        12832     \n",
            "_________________________________________________________________\n",
            "max_pooling2d_77 (MaxPooling (None, 18, 18, 32)        0         \n",
            "_________________________________________________________________\n",
            "batch_normalization_91 (Batc (None, 18, 18, 32)        128       \n",
            "_________________________________________________________________\n",
            "dropout_86 (Dropout)         (None, 18, 18, 32)        0         \n",
            "_________________________________________________________________\n",
            "flatten_27 (Flatten)         (None, 10368)             0         \n",
            "_________________________________________________________________\n",
            "batch_normalization_92 (Batc (None, 10368)             41472     \n",
            "_________________________________________________________________\n",
            "dropout_87 (Dropout)         (None, 10368)             0         \n",
            "_________________________________________________________________\n",
            "dense_54 (Dense)             (None, 512)               5308928   \n",
            "_________________________________________________________________\n",
            "dense_55 (Dense)             (None, 3)                 1539      \n",
            "=================================================================\n",
            "Total params: 5,368,559\n",
            "Trainable params: 5,347,711\n",
            "Non-trainable params: 20,848\n",
            "_________________________________________________________________\n"
          ],
          "name": "stdout"
        }
      ]
    },
    {
      "cell_type": "code",
      "metadata": {
        "colab": {
          "base_uri": "https://localhost:8080/"
        },
        "id": "-Vh4JvzGfHFF",
        "outputId": "dbd93c1d-4d3e-4551-bedb-6699c0a0d749"
      },
      "source": [
        "# model 1\n",
        "\n",
        "model.compile(optimizer='rmsprop',\n",
        "              loss='categorical_crossentropy',\n",
        "              metrics=['accuracy'])\n",
        " \n",
        "history = model.fit_generator(\n",
        "    generator=train_image_generator,\n",
        "    steps_per_epoch=10,\n",
        "    epochs=100,\n",
        "    validation_data=validation_image_generator,\n",
        ")"
      ],
      "execution_count": null,
      "outputs": [
        {
          "output_type": "stream",
          "text": [
            "/usr/local/lib/python3.6/dist-packages/tensorflow/python/keras/engine/training.py:1844: UserWarning: `Model.fit_generator` is deprecated and will be removed in a future version. Please use `Model.fit`, which supports generators.\n",
            "  warnings.warn('`Model.fit_generator` is deprecated and '\n"
          ],
          "name": "stderr"
        },
        {
          "output_type": "stream",
          "text": [
            "Epoch 1/100\n",
            "10/10 [==============================] - 21s 2s/step - loss: 3.7847 - accuracy: 0.4128 - val_loss: 1.2495 - val_accuracy: 0.3333\n",
            "Epoch 2/100\n",
            "10/10 [==============================] - 19s 2s/step - loss: 3.0922 - accuracy: 0.5656 - val_loss: 1.7347 - val_accuracy: 0.3333\n",
            "Epoch 3/100\n",
            "10/10 [==============================] - 20s 2s/step - loss: 2.5674 - accuracy: 0.6197 - val_loss: 2.8359 - val_accuracy: 0.3333\n",
            "Epoch 4/100\n",
            "10/10 [==============================] - 19s 2s/step - loss: 2.3782 - accuracy: 0.6849 - val_loss: 2.6205 - val_accuracy: 0.3333\n",
            "Epoch 5/100\n",
            "10/10 [==============================] - 19s 2s/step - loss: 2.8644 - accuracy: 0.6023 - val_loss: 3.1453 - val_accuracy: 0.3333\n",
            "Epoch 6/100\n",
            "10/10 [==============================] - 19s 2s/step - loss: 2.0430 - accuracy: 0.6797 - val_loss: 2.3378 - val_accuracy: 0.3333\n",
            "Epoch 7/100\n",
            "10/10 [==============================] - 19s 2s/step - loss: 1.7442 - accuracy: 0.7154 - val_loss: 4.5834 - val_accuracy: 0.3333\n",
            "Epoch 8/100\n",
            "10/10 [==============================] - 19s 2s/step - loss: 1.8310 - accuracy: 0.7330 - val_loss: 4.0424 - val_accuracy: 0.3333\n",
            "Epoch 9/100\n",
            "10/10 [==============================] - 19s 2s/step - loss: 1.4528 - accuracy: 0.7699 - val_loss: 1.3934 - val_accuracy: 0.3333\n",
            "Epoch 10/100\n",
            "10/10 [==============================] - 19s 2s/step - loss: 1.3717 - accuracy: 0.7231 - val_loss: 1.7030 - val_accuracy: 0.3333\n",
            "Epoch 11/100\n",
            "10/10 [==============================] - 19s 2s/step - loss: 1.0200 - accuracy: 0.7975 - val_loss: 1.2385 - val_accuracy: 0.4850\n",
            "Epoch 12/100\n",
            "10/10 [==============================] - 19s 2s/step - loss: 0.9344 - accuracy: 0.7896 - val_loss: 1.0338 - val_accuracy: 0.4551\n",
            "Epoch 13/100\n",
            "10/10 [==============================] - 19s 2s/step - loss: 1.2425 - accuracy: 0.8096 - val_loss: 1.6122 - val_accuracy: 0.3333\n",
            "Epoch 14/100\n",
            "10/10 [==============================] - 19s 2s/step - loss: 1.0082 - accuracy: 0.7842 - val_loss: 1.5135 - val_accuracy: 0.3504\n",
            "Epoch 15/100\n",
            "10/10 [==============================] - 19s 2s/step - loss: 1.1015 - accuracy: 0.7890 - val_loss: 1.3690 - val_accuracy: 0.4637\n",
            "Epoch 16/100\n",
            "10/10 [==============================] - 19s 2s/step - loss: 0.7507 - accuracy: 0.8362 - val_loss: 2.3042 - val_accuracy: 0.5064\n",
            "Epoch 17/100\n",
            "10/10 [==============================] - 19s 2s/step - loss: 0.4227 - accuracy: 0.9092 - val_loss: 2.5963 - val_accuracy: 0.5449\n",
            "Epoch 18/100\n",
            "10/10 [==============================] - 18s 2s/step - loss: 0.7117 - accuracy: 0.8296 - val_loss: 2.4470 - val_accuracy: 0.4637\n",
            "Epoch 19/100\n",
            "10/10 [==============================] - 19s 2s/step - loss: 0.7914 - accuracy: 0.8573 - val_loss: 4.3231 - val_accuracy: 0.3419\n",
            "Epoch 20/100\n",
            "10/10 [==============================] - 19s 2s/step - loss: 0.6459 - accuracy: 0.8549 - val_loss: 3.8424 - val_accuracy: 0.3675\n",
            "Epoch 21/100\n",
            "10/10 [==============================] - 19s 2s/step - loss: 0.5113 - accuracy: 0.8473 - val_loss: 3.5530 - val_accuracy: 0.4188\n",
            "Epoch 22/100\n",
            "10/10 [==============================] - 19s 2s/step - loss: 0.6045 - accuracy: 0.8506 - val_loss: 2.9640 - val_accuracy: 0.3974\n",
            "Epoch 23/100\n",
            "10/10 [==============================] - 19s 2s/step - loss: 0.8106 - accuracy: 0.8220 - val_loss: 3.3433 - val_accuracy: 0.4466\n",
            "Epoch 24/100\n",
            "10/10 [==============================] - 19s 2s/step - loss: 0.6364 - accuracy: 0.8800 - val_loss: 2.1564 - val_accuracy: 0.5491\n",
            "Epoch 25/100\n",
            "10/10 [==============================] - 19s 2s/step - loss: 0.2959 - accuracy: 0.9052 - val_loss: 2.9660 - val_accuracy: 0.4103\n",
            "Epoch 26/100\n",
            "10/10 [==============================] - 19s 2s/step - loss: 0.3711 - accuracy: 0.8970 - val_loss: 3.1811 - val_accuracy: 0.3868\n",
            "Epoch 27/100\n",
            "10/10 [==============================] - 19s 2s/step - loss: 0.4950 - accuracy: 0.9011 - val_loss: 2.3668 - val_accuracy: 0.3697\n",
            "Epoch 28/100\n",
            "10/10 [==============================] - 19s 2s/step - loss: 0.3319 - accuracy: 0.8873 - val_loss: 1.4505 - val_accuracy: 0.4936\n",
            "Epoch 29/100\n",
            "10/10 [==============================] - 19s 2s/step - loss: 0.2644 - accuracy: 0.9042 - val_loss: 4.1933 - val_accuracy: 0.3611\n",
            "Epoch 30/100\n",
            "10/10 [==============================] - 19s 2s/step - loss: 0.3969 - accuracy: 0.9100 - val_loss: 1.2895 - val_accuracy: 0.5833\n",
            "Epoch 31/100\n",
            "10/10 [==============================] - 19s 2s/step - loss: 0.2922 - accuracy: 0.9022 - val_loss: 0.5885 - val_accuracy: 0.7650\n",
            "Epoch 32/100\n",
            "10/10 [==============================] - 19s 2s/step - loss: 0.1742 - accuracy: 0.9249 - val_loss: 0.5986 - val_accuracy: 0.7286\n",
            "Epoch 33/100\n",
            "10/10 [==============================] - 18s 2s/step - loss: 0.2719 - accuracy: 0.9016 - val_loss: 0.6252 - val_accuracy: 0.7714\n",
            "Epoch 34/100\n",
            "10/10 [==============================] - 18s 2s/step - loss: 0.1787 - accuracy: 0.9308 - val_loss: 0.5665 - val_accuracy: 0.7607\n",
            "Epoch 35/100\n",
            "10/10 [==============================] - 19s 2s/step - loss: 0.3634 - accuracy: 0.9269 - val_loss: 1.5442 - val_accuracy: 0.6368\n",
            "Epoch 36/100\n",
            "10/10 [==============================] - 19s 2s/step - loss: 0.2700 - accuracy: 0.9142 - val_loss: 1.4915 - val_accuracy: 0.5748\n",
            "Epoch 37/100\n",
            "10/10 [==============================] - 19s 2s/step - loss: 0.3074 - accuracy: 0.9312 - val_loss: 1.6099 - val_accuracy: 0.5598\n",
            "Epoch 38/100\n",
            "10/10 [==============================] - 19s 2s/step - loss: 0.3155 - accuracy: 0.9178 - val_loss: 1.8715 - val_accuracy: 0.4487\n",
            "Epoch 39/100\n",
            "10/10 [==============================] - 19s 2s/step - loss: 0.1823 - accuracy: 0.9246 - val_loss: 1.2998 - val_accuracy: 0.5812\n",
            "Epoch 40/100\n",
            "10/10 [==============================] - 19s 2s/step - loss: 0.1629 - accuracy: 0.9525 - val_loss: 1.9860 - val_accuracy: 0.4103\n",
            "Epoch 41/100\n",
            "10/10 [==============================] - 19s 2s/step - loss: 0.1432 - accuracy: 0.9425 - val_loss: 1.2735 - val_accuracy: 0.5235\n",
            "Epoch 42/100\n",
            "10/10 [==============================] - 19s 2s/step - loss: 0.1698 - accuracy: 0.9385 - val_loss: 0.2740 - val_accuracy: 0.8932\n",
            "Epoch 43/100\n",
            "10/10 [==============================] - 19s 2s/step - loss: 0.2863 - accuracy: 0.8789 - val_loss: 0.5918 - val_accuracy: 0.8269\n",
            "Epoch 44/100\n",
            "10/10 [==============================] - 19s 2s/step - loss: 0.1372 - accuracy: 0.9512 - val_loss: 0.7180 - val_accuracy: 0.7543\n",
            "Epoch 45/100\n",
            "10/10 [==============================] - 19s 2s/step - loss: 0.2706 - accuracy: 0.9190 - val_loss: 0.7787 - val_accuracy: 0.7479\n",
            "Epoch 46/100\n",
            "10/10 [==============================] - 19s 2s/step - loss: 0.1202 - accuracy: 0.9571 - val_loss: 1.8918 - val_accuracy: 0.6218\n",
            "Epoch 47/100\n",
            "10/10 [==============================] - 19s 2s/step - loss: 0.3392 - accuracy: 0.9044 - val_loss: 1.1342 - val_accuracy: 0.7393\n",
            "Epoch 48/100\n",
            "10/10 [==============================] - 19s 2s/step - loss: 0.1549 - accuracy: 0.9522 - val_loss: 1.8478 - val_accuracy: 0.6923\n",
            "Epoch 49/100\n",
            "10/10 [==============================] - 19s 2s/step - loss: 0.2135 - accuracy: 0.9235 - val_loss: 1.4270 - val_accuracy: 0.7137\n",
            "Epoch 50/100\n",
            "10/10 [==============================] - 19s 2s/step - loss: 0.1431 - accuracy: 0.9417 - val_loss: 0.5550 - val_accuracy: 0.7885\n",
            "Epoch 51/100\n",
            "10/10 [==============================] - 19s 2s/step - loss: 0.1370 - accuracy: 0.9569 - val_loss: 0.4947 - val_accuracy: 0.8013\n",
            "Epoch 52/100\n",
            "10/10 [==============================] - 19s 2s/step - loss: 0.1205 - accuracy: 0.9582 - val_loss: 0.8392 - val_accuracy: 0.6838\n",
            "Epoch 53/100\n",
            "10/10 [==============================] - 19s 2s/step - loss: 0.2013 - accuracy: 0.9429 - val_loss: 0.2948 - val_accuracy: 0.8932\n",
            "Epoch 54/100\n",
            "10/10 [==============================] - 19s 2s/step - loss: 0.1837 - accuracy: 0.9582 - val_loss: 2.1810 - val_accuracy: 0.4979\n",
            "Epoch 55/100\n",
            "10/10 [==============================] - 19s 2s/step - loss: 0.1931 - accuracy: 0.9515 - val_loss: 0.2811 - val_accuracy: 0.9231\n",
            "Epoch 56/100\n",
            "10/10 [==============================] - 19s 2s/step - loss: 0.2868 - accuracy: 0.9325 - val_loss: 0.1842 - val_accuracy: 0.9380\n",
            "Epoch 57/100\n",
            "10/10 [==============================] - 19s 2s/step - loss: 0.1972 - accuracy: 0.9604 - val_loss: 0.1872 - val_accuracy: 0.9380\n",
            "Epoch 58/100\n",
            "10/10 [==============================] - 19s 2s/step - loss: 0.1370 - accuracy: 0.9448 - val_loss: 0.4200 - val_accuracy: 0.8205\n",
            "Epoch 59/100\n",
            "10/10 [==============================] - 19s 2s/step - loss: 0.1024 - accuracy: 0.9576 - val_loss: 0.4671 - val_accuracy: 0.8440\n",
            "Epoch 60/100\n",
            "10/10 [==============================] - 19s 2s/step - loss: 0.2884 - accuracy: 0.9464 - val_loss: 0.2628 - val_accuracy: 0.8996\n",
            "Epoch 61/100\n",
            "10/10 [==============================] - 19s 2s/step - loss: 0.2111 - accuracy: 0.9458 - val_loss: 0.7678 - val_accuracy: 0.7030\n",
            "Epoch 62/100\n",
            "10/10 [==============================] - 19s 2s/step - loss: 0.1621 - accuracy: 0.9452 - val_loss: 0.1417 - val_accuracy: 0.9466\n",
            "Epoch 63/100\n",
            "10/10 [==============================] - 19s 2s/step - loss: 0.1446 - accuracy: 0.9597 - val_loss: 0.2610 - val_accuracy: 0.9188\n",
            "Epoch 64/100\n",
            "10/10 [==============================] - 19s 2s/step - loss: 0.1739 - accuracy: 0.9633 - val_loss: 0.2546 - val_accuracy: 0.9017\n",
            "Epoch 65/100\n",
            "10/10 [==============================] - 19s 2s/step - loss: 0.1760 - accuracy: 0.9491 - val_loss: 0.4074 - val_accuracy: 0.8932\n",
            "Epoch 66/100\n",
            "10/10 [==============================] - 19s 2s/step - loss: 0.1399 - accuracy: 0.9257 - val_loss: 0.4862 - val_accuracy: 0.8697\n",
            "Epoch 67/100\n",
            "10/10 [==============================] - 19s 2s/step - loss: 0.1044 - accuracy: 0.9630 - val_loss: 0.2979 - val_accuracy: 0.9295\n",
            "Epoch 68/100\n",
            "10/10 [==============================] - 19s 2s/step - loss: 0.1402 - accuracy: 0.9532 - val_loss: 0.4702 - val_accuracy: 0.8654\n",
            "Epoch 69/100\n",
            "10/10 [==============================] - 19s 2s/step - loss: 0.1878 - accuracy: 0.9424 - val_loss: 1.5234 - val_accuracy: 0.7628\n",
            "Epoch 70/100\n",
            "10/10 [==============================] - 19s 2s/step - loss: 0.0730 - accuracy: 0.9730 - val_loss: 0.5081 - val_accuracy: 0.8761\n",
            "Epoch 71/100\n",
            "10/10 [==============================] - 19s 2s/step - loss: 0.0660 - accuracy: 0.9657 - val_loss: 0.1023 - val_accuracy: 0.9679\n",
            "Epoch 72/100\n",
            "10/10 [==============================] - 19s 2s/step - loss: 0.2429 - accuracy: 0.9401 - val_loss: 2.5557 - val_accuracy: 0.6538\n",
            "Epoch 73/100\n",
            "10/10 [==============================] - 19s 2s/step - loss: 0.0935 - accuracy: 0.9881 - val_loss: 0.2809 - val_accuracy: 0.9252\n",
            "Epoch 74/100\n",
            "10/10 [==============================] - 19s 2s/step - loss: 0.0974 - accuracy: 0.9666 - val_loss: 0.1868 - val_accuracy: 0.9679\n",
            "Epoch 75/100\n",
            "10/10 [==============================] - 19s 2s/step - loss: 0.0796 - accuracy: 0.9780 - val_loss: 0.8179 - val_accuracy: 0.8483\n",
            "Epoch 76/100\n",
            "10/10 [==============================] - 19s 2s/step - loss: 0.1269 - accuracy: 0.9626 - val_loss: 1.0421 - val_accuracy: 0.7863\n",
            "Epoch 77/100\n",
            "10/10 [==============================] - 19s 2s/step - loss: 0.0823 - accuracy: 0.9781 - val_loss: 0.1106 - val_accuracy: 0.9637\n",
            "Epoch 78/100\n",
            "10/10 [==============================] - 18s 2s/step - loss: 0.1318 - accuracy: 0.9515 - val_loss: 0.1279 - val_accuracy: 0.9637\n",
            "Epoch 79/100\n",
            "10/10 [==============================] - 19s 2s/step - loss: 0.0327 - accuracy: 0.9954 - val_loss: 0.1109 - val_accuracy: 0.9594\n",
            "Epoch 80/100\n",
            "10/10 [==============================] - 18s 2s/step - loss: 0.1900 - accuracy: 0.9465 - val_loss: 0.0853 - val_accuracy: 0.9722\n",
            "Epoch 81/100\n",
            "10/10 [==============================] - 19s 2s/step - loss: 0.0387 - accuracy: 0.9857 - val_loss: 0.1856 - val_accuracy: 0.9701\n",
            "Epoch 82/100\n",
            "10/10 [==============================] - 19s 2s/step - loss: 0.0725 - accuracy: 0.9615 - val_loss: 0.4858 - val_accuracy: 0.8440\n",
            "Epoch 83/100\n",
            "10/10 [==============================] - 19s 2s/step - loss: 0.1531 - accuracy: 0.9564 - val_loss: 0.0696 - val_accuracy: 0.9850\n",
            "Epoch 84/100\n",
            "10/10 [==============================] - 18s 2s/step - loss: 0.1165 - accuracy: 0.9709 - val_loss: 0.0573 - val_accuracy: 0.9808\n",
            "Epoch 85/100\n",
            "10/10 [==============================] - 19s 2s/step - loss: 0.0774 - accuracy: 0.9821 - val_loss: 0.0605 - val_accuracy: 0.9829\n",
            "Epoch 86/100\n",
            "10/10 [==============================] - 19s 2s/step - loss: 0.0735 - accuracy: 0.9703 - val_loss: 0.1582 - val_accuracy: 0.9530\n",
            "Epoch 87/100\n",
            "10/10 [==============================] - 19s 2s/step - loss: 0.1258 - accuracy: 0.9653 - val_loss: 0.2726 - val_accuracy: 0.9209\n",
            "Epoch 88/100\n",
            "10/10 [==============================] - 19s 2s/step - loss: 0.1161 - accuracy: 0.9561 - val_loss: 0.1796 - val_accuracy: 0.9466\n",
            "Epoch 89/100\n",
            "10/10 [==============================] - 18s 2s/step - loss: 0.0549 - accuracy: 0.9750 - val_loss: 0.8067 - val_accuracy: 0.8077\n",
            "Epoch 90/100\n",
            "10/10 [==============================] - 18s 2s/step - loss: 0.1582 - accuracy: 0.9613 - val_loss: 0.2494 - val_accuracy: 0.9145\n",
            "Epoch 91/100\n",
            "10/10 [==============================] - 18s 2s/step - loss: 0.0580 - accuracy: 0.9831 - val_loss: 1.4467 - val_accuracy: 0.7543\n",
            "Epoch 92/100\n",
            "10/10 [==============================] - 19s 2s/step - loss: 0.0369 - accuracy: 0.9910 - val_loss: 0.4623 - val_accuracy: 0.8846\n",
            "Epoch 93/100\n",
            "10/10 [==============================] - 19s 2s/step - loss: 0.0909 - accuracy: 0.9771 - val_loss: 3.0047 - val_accuracy: 0.5962\n",
            "Epoch 94/100\n",
            "10/10 [==============================] - 19s 2s/step - loss: 0.1027 - accuracy: 0.9740 - val_loss: 0.2480 - val_accuracy: 0.9359\n",
            "Epoch 95/100\n",
            "10/10 [==============================] - 19s 2s/step - loss: 0.0851 - accuracy: 0.9753 - val_loss: 0.4975 - val_accuracy: 0.8419\n",
            "Epoch 96/100\n",
            "10/10 [==============================] - 19s 2s/step - loss: 0.1909 - accuracy: 0.9597 - val_loss: 0.1329 - val_accuracy: 0.9573\n",
            "Epoch 97/100\n",
            "10/10 [==============================] - 19s 2s/step - loss: 0.0766 - accuracy: 0.9710 - val_loss: 0.4080 - val_accuracy: 0.9017\n",
            "Epoch 98/100\n",
            "10/10 [==============================] - 19s 2s/step - loss: 0.2811 - accuracy: 0.9799 - val_loss: 0.1585 - val_accuracy: 0.9594\n",
            "Epoch 99/100\n",
            "10/10 [==============================] - 19s 2s/step - loss: 0.0736 - accuracy: 0.9756 - val_loss: 0.0545 - val_accuracy: 0.9786\n",
            "Epoch 100/100\n",
            "10/10 [==============================] - 19s 2s/step - loss: 0.0418 - accuracy: 0.9873 - val_loss: 0.1745 - val_accuracy: 0.9466\n"
          ],
          "name": "stdout"
        }
      ]
    },
    {
      "cell_type": "code",
      "metadata": {
        "colab": {
          "base_uri": "https://localhost:8080/"
        },
        "id": "MnFXCsKP_pzi",
        "outputId": "fa626e04-f003-47fb-8598-7d7d8e702895"
      },
      "source": [
        "# model 2\n",
        "\n",
        "model2 = Sequential([\n",
        "\n",
        "# layer 1\n",
        "Conv2D(16, kernel_size=2, padding='same', activation='relu', input_shape=(150, 150, 3)),\n",
        "Conv2D(16, kernel_size=2, padding='same', activation='relu'),\n",
        "BatchNormalization(),\n",
        "\n",
        "# Pooling + dropout\n",
        "MaxPooling2D(pool_size=2),\n",
        "Dropout(0.5),\n",
        "\n",
        "#layer 2\n",
        "Conv2D(32, kernel_size=2, padding='same', activation='relu'),\n",
        "Conv2D(32, kernel_size=2, padding='same', activation='relu'),\n",
        "BatchNormalization(),\n",
        "\n",
        "# Pooling + dropout\n",
        "MaxPooling2D(pool_size=2),\n",
        "Dropout(0.5),\n",
        "\n",
        "# layer 3\n",
        "Conv2D(64, kernel_size=2, padding='same', activation='relu'),\n",
        "Conv2D(64, kernel_size=2, padding='same', activation='relu'),\n",
        "BatchNormalization(),\n",
        "\n",
        "# Pooling + dropout\n",
        "MaxPooling2D(pool_size=2),\n",
        "Dropout(0.5),\n",
        "\n",
        "# layer 4\n",
        "Conv2D(128, kernel_size=2, padding='same', activation='relu'),\n",
        "Conv2D(128, kernel_size=2, padding='same', activation='relu'),\n",
        "BatchNormalization(),\n",
        "\n",
        "# Pooling + dropout\n",
        "MaxPooling2D(pool_size=2),\n",
        "Dropout(0.5),\n",
        "\n",
        "Flatten(),\n",
        "\n",
        "Dense(712, activation='relu'),\n",
        "Dense(64, activation='relu'),\n",
        "BatchNormalization(),\n",
        "\n",
        "Dense(3, activation='softmax'),\n",
        "\n",
        "])\n",
        "model2.summary()"
      ],
      "execution_count": null,
      "outputs": [
        {
          "output_type": "stream",
          "text": [
            "Model: \"sequential_18\"\n",
            "_________________________________________________________________\n",
            "Layer (type)                 Output Shape              Param #   \n",
            "=================================================================\n",
            "conv2d_87 (Conv2D)           (None, 150, 150, 16)      208       \n",
            "_________________________________________________________________\n",
            "conv2d_88 (Conv2D)           (None, 150, 150, 16)      1040      \n",
            "_________________________________________________________________\n",
            "batch_normalization_51 (Batc (None, 150, 150, 16)      64        \n",
            "_________________________________________________________________\n",
            "max_pooling2d_42 (MaxPooling (None, 75, 75, 16)        0         \n",
            "_________________________________________________________________\n",
            "dropout_36 (Dropout)         (None, 75, 75, 16)        0         \n",
            "_________________________________________________________________\n",
            "conv2d_89 (Conv2D)           (None, 75, 75, 32)        2080      \n",
            "_________________________________________________________________\n",
            "conv2d_90 (Conv2D)           (None, 75, 75, 32)        4128      \n",
            "_________________________________________________________________\n",
            "batch_normalization_52 (Batc (None, 75, 75, 32)        128       \n",
            "_________________________________________________________________\n",
            "max_pooling2d_43 (MaxPooling (None, 37, 37, 32)        0         \n",
            "_________________________________________________________________\n",
            "dropout_37 (Dropout)         (None, 37, 37, 32)        0         \n",
            "_________________________________________________________________\n",
            "conv2d_91 (Conv2D)           (None, 37, 37, 64)        8256      \n",
            "_________________________________________________________________\n",
            "conv2d_92 (Conv2D)           (None, 37, 37, 64)        16448     \n",
            "_________________________________________________________________\n",
            "batch_normalization_53 (Batc (None, 37, 37, 64)        256       \n",
            "_________________________________________________________________\n",
            "max_pooling2d_44 (MaxPooling (None, 18, 18, 64)        0         \n",
            "_________________________________________________________________\n",
            "dropout_38 (Dropout)         (None, 18, 18, 64)        0         \n",
            "_________________________________________________________________\n",
            "conv2d_93 (Conv2D)           (None, 18, 18, 128)       32896     \n",
            "_________________________________________________________________\n",
            "conv2d_94 (Conv2D)           (None, 18, 18, 128)       65664     \n",
            "_________________________________________________________________\n",
            "batch_normalization_54 (Batc (None, 18, 18, 128)       512       \n",
            "_________________________________________________________________\n",
            "max_pooling2d_45 (MaxPooling (None, 9, 9, 128)         0         \n",
            "_________________________________________________________________\n",
            "dropout_39 (Dropout)         (None, 9, 9, 128)         0         \n",
            "_________________________________________________________________\n",
            "flatten_9 (Flatten)          (None, 10368)             0         \n",
            "_________________________________________________________________\n",
            "dense_26 (Dense)             (None, 712)               7382728   \n",
            "_________________________________________________________________\n",
            "dense_27 (Dense)             (None, 64)                45632     \n",
            "_________________________________________________________________\n",
            "batch_normalization_55 (Batc (None, 64)                256       \n",
            "_________________________________________________________________\n",
            "dense_28 (Dense)             (None, 3)                 195       \n",
            "=================================================================\n",
            "Total params: 7,560,491\n",
            "Trainable params: 7,559,883\n",
            "Non-trainable params: 608\n",
            "_________________________________________________________________\n"
          ],
          "name": "stdout"
        }
      ]
    },
    {
      "cell_type": "code",
      "metadata": {
        "colab": {
          "base_uri": "https://localhost:8080/"
        },
        "id": "rqYc_urOGop-",
        "outputId": "1089aeaa-b8ce-4e5f-c1fd-1c6c2376550a"
      },
      "source": [
        "# model 2\n",
        "\n",
        "model2.compile(optimizer='rmsprop',\n",
        "              loss='categorical_crossentropy',\n",
        "              metrics=['accuracy'])\n",
        " \n",
        "history2 = model.fit_generator(\n",
        "    generator=train_image_generator,\n",
        "    steps_per_epoch=10,\n",
        "    epochs=100,\n",
        "    validation_data=validation_image_generator,\n",
        ")"
      ],
      "execution_count": null,
      "outputs": [
        {
          "output_type": "stream",
          "text": [
            "/usr/local/lib/python3.7/dist-packages/tensorflow/python/keras/engine/training.py:1844: UserWarning: `Model.fit_generator` is deprecated and will be removed in a future version. Please use `Model.fit`, which supports generators.\n",
            "  warnings.warn('`Model.fit_generator` is deprecated and '\n"
          ],
          "name": "stderr"
        },
        {
          "output_type": "stream",
          "text": [
            "Epoch 1/100\n",
            "10/10 [==============================] - 392s 41s/step - loss: 1.4852 - accuracy: 0.3597 - val_loss: 1.2575 - val_accuracy: 0.3333\n",
            "Epoch 2/100\n",
            "10/10 [==============================] - 108s 11s/step - loss: 1.0010 - accuracy: 0.5463 - val_loss: 1.5309 - val_accuracy: 0.3333\n",
            "Epoch 3/100\n",
            " 2/10 [=====>........................] - ETA: 1:20 - loss: 1.0232 - accuracy: 0.4844"
          ],
          "name": "stdout"
        }
      ]
    },
    {
      "cell_type": "markdown",
      "metadata": {
        "id": "MhnKNKqBu5hD"
      },
      "source": [
        "## Plotting model 1 performance"
      ]
    },
    {
      "cell_type": "code",
      "metadata": {
        "id": "QIUxpdOtJpwA"
      },
      "source": [
        "loss = history.history['loss']\n",
        "val_loss = history.history['val_loss']\n",
        "\n",
        "accuracy = history.history['accuracy']\n",
        "val_accuracy = history.history['val_accuracy']"
      ],
      "execution_count": null,
      "outputs": []
    },
    {
      "cell_type": "code",
      "metadata": {
        "colab": {
          "base_uri": "https://localhost:8080/",
          "height": 345
        },
        "id": "Sp4lWNOsvHd4",
        "outputId": "a58a52db-781d-4adb-f3d9-5357ecd1f267"
      },
      "source": [
        "# plotting the model loss on but the training set and validation se\n",
        "epochs = range(len(loss))\n",
        "plt.figure(figsize=(8, 5))\n",
        "plt.plot(epochs, loss, label='train loss')\n",
        "plt.plot(epochs, val_loss, label='val loss')\n",
        "plt.legend()\n",
        "plt.title('Loss')\n",
        "plt.ylabel('Loss')\n",
        "plt.xlabel('epoch')\n",
        "plt.show()"
      ],
      "execution_count": null,
      "outputs": [
        {
          "output_type": "display_data",
          "data": {
            "image/png": "[encoded data removed]",
            "text/plain": [
              "<Figure size 576x360 with 1 Axes>"
            ]
          },
          "metadata": {
            "tags": []
          }
        }
      ]
    },
    {
      "cell_type": "code",
      "metadata": {
        "colab": {
          "base_uri": "https://localhost:8080/",
          "height": 345
        },
        "id": "nqNxh6Dhx6S4",
        "outputId": "2fb7c62e-5829-4893-a6de-f056b1158b2e"
      },
      "source": [
        "# Plotting the models accuracy on but the training and validation set\n",
        "\n",
        "plt.figure(figsize=(8, 5))\n",
        "plt.plot(epochs, accuracy, label='train')\n",
        "plt.plot(epochs, val_accuracy, 'g', label='validation')\n",
        "plt.legend()\n",
        "plt.title('Accuracy')\n",
        "plt.ylabel('accuracy')\n",
        "plt.xlabel('epoch')\n",
        "\n",
        "plt.show()"
      ],
      "execution_count": null,
      "outputs": [
        {
          "output_type": "display_data",
          "data": {
            "image/png": "[encoded data removed]",
            "text/plain": [
              "<Figure size 576x360 with 1 Axes>"
            ]
          },
          "metadata": {
            "tags": []
          }
        }
      ]
    },
    {
      "cell_type": "markdown",
      "metadata": {
        "id": "-pqPUvGLzieO"
      },
      "source": [
        "## Evaluating the model on the test set"
      ]
    },
    {
      "cell_type": "code",
      "metadata": {
        "id": "-1qrRoUWz9dJ",
        "colab": {
          "base_uri": "https://localhost:8080/"
        },
        "outputId": "f9661d23-716a-448a-9e0f-40be366b6e8d"
      },
      "source": [
        "test_loss, test_accuracy = model.evaluate_generator(test_image_generator, steps=32,  verbose=1)"
      ],
      "execution_count": null,
      "outputs": [
        {
          "output_type": "stream",
          "text": [
            "/usr/local/lib/python3.6/dist-packages/tensorflow/python/keras/engine/training.py:1877: UserWarning: `Model.evaluate_generator` is deprecated and will be removed in a future version. Please use `Model.evaluate`, which supports generators.\n",
            "  warnings.warn('`Model.evaluate_generator` is deprecated and '\n"
          ],
          "name": "stderr"
        },
        {
          "output_type": "stream",
          "text": [
            "15/32 [=============>................] - ETA: 8s - loss: 2214.9951 - accuracy: 0.5021WARNING:tensorflow:Your input ran out of data; interrupting training. Make sure that your dataset or generator can generate at least `steps_per_epoch * epochs` batches (in this case, 32 batches). You may need to use the repeat() function when building your dataset.\n",
            "32/32 [==============================] - 8s 232ms/step - loss: 2214.9951 - accuracy: 0.5021\n"
          ],
          "name": "stdout"
        }
      ]
    },
    {
      "cell_type": "code",
      "metadata": {
        "id": "tPclOrbtz9hu",
        "colab": {
          "base_uri": "https://localhost:8080/"
        },
        "outputId": "d00cc3ea-2fbe-4ff8-d6cc-1cd954493db1"
      },
      "source": [
        "print(f'Test Loss : {test_loss}\\n Test Accuracy : {test_accuracy*100}')"
      ],
      "execution_count": null,
      "outputs": [
        {
          "output_type": "stream",
          "text": [
            "Test Loss : 2214.9951171875\n",
            " Test Accuracy : 50.2136766910553\n"
          ],
          "name": "stdout"
        }
      ]
    },
    {
      "cell_type": "code",
      "metadata": {
        "id": "vArR61Y3vO9y"
      },
      "source": [
        ""
      ],
      "execution_count": null,
      "outputs": []
    }
  ]
}